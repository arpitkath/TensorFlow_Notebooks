{
 "cells": [
  {
   "cell_type": "code",
   "execution_count": 1,
   "metadata": {
    "collapsed": true
   },
   "outputs": [],
   "source": [
    "import tensorflow as tf"
   ]
  },
  {
   "cell_type": "code",
   "execution_count": 2,
   "metadata": {
    "collapsed": true
   },
   "outputs": [],
   "source": [
    "session = tf.InteractiveSession()"
   ]
  },
  {
   "cell_type": "code",
   "execution_count": 3,
   "metadata": {
    "collapsed": false
   },
   "outputs": [
    {
     "name": "stdout",
     "output_type": "stream",
     "text": [
      "Extracting MNIST_data/train-images-idx3-ubyte.gz\n",
      "Extracting MNIST_data/train-labels-idx1-ubyte.gz\n",
      "Extracting MNIST_data/t10k-images-idx3-ubyte.gz\n",
      "Extracting MNIST_data/t10k-labels-idx1-ubyte.gz\n"
     ]
    }
   ],
   "source": [
    "from tensorflow.examples.tutorials.mnist import input_data\n",
    "mnist = input_data.read_data_sets('MNIST_data', one_hot=True)"
   ]
  },
  {
   "cell_type": "code",
   "execution_count": 4,
   "metadata": {
    "collapsed": true
   },
   "outputs": [],
   "source": [
    "width = height = 28\n",
    "flat = width * height # = number of pixels\n",
    "class_output = 10"
   ]
  },
  {
   "cell_type": "code",
   "execution_count": 5,
   "metadata": {
    "collapsed": true
   },
   "outputs": [],
   "source": [
    "# Creating placeholders for input and output\n",
    "\n",
    "X  = tf.placeholder(tf.float32, shape=[None, flat])\n",
    "y_ = tf.placeholder(tf.float32, shape=[None, class_output])"
   ]
  },
  {
   "cell_type": "code",
   "execution_count": 6,
   "metadata": {
    "collapsed": true
   },
   "outputs": [],
   "source": [
    "# This function will be responsible for generating weights having some noise to prevent vanishing gradient problem.\n",
    "\n",
    "def weight_variable(shape):\n",
    "    weight = tf.truncated_normal(shape, stddev=0.1)\n",
    "    return tf.Variable(weight)\n"
   ]
  },
  {
   "cell_type": "code",
   "execution_count": 7,
   "metadata": {
    "collapsed": true
   },
   "outputs": [],
   "source": [
    "# Function for generating bias variable to avoid \"dying\" of neurons\n",
    "\n",
    "def bias_variable(shape):\n",
    "    bias = tf.constant(0.1, shape=shape)\n",
    "    return tf.Variable(bias)"
   ]
  },
  {
   "cell_type": "code",
   "execution_count": 9,
   "metadata": {
    "collapsed": false
   },
   "outputs": [
    {
     "data": {
      "text/plain": [
       "'\\nStructure of Network\\n1. Input data\\n2. Convolution and max pooling\\n3. Convolution and max pooling\\n4. Fully connected layer\\n5. Processing - DropOut\\n6. Readout layer - Fully Connected\\n7. Output - Classified digits\\n'"
      ]
     },
     "execution_count": 9,
     "metadata": {},
     "output_type": "execute_result"
    }
   ],
   "source": [
    "\"\"\"\n",
    "Structure of Network\n",
    "1. Input data\n",
    "2. Convolution and max pooling\n",
    "3. Convolution and max pooling\n",
    "4. Fully connected layer\n",
    "5. Processing - DropOut\n",
    "6. Readout layer - Fully Connected\n",
    "7. Output - Classified digits\n",
    "\"\"\""
   ]
  },
  {
   "cell_type": "code",
   "execution_count": 10,
   "metadata": {
    "collapsed": true
   },
   "outputs": [],
   "source": [
    "# A function for convolution layers\n",
    "\n",
    "def conv2d(X, W):\n",
    "    return tf.nn.conv2d(X, W, strides=[1, 1, 1, 1], padding='SAME')"
   ]
  },
  {
   "cell_type": "code",
   "execution_count": 11,
   "metadata": {
    "collapsed": true
   },
   "outputs": [],
   "source": [
    "# Function for 2x2 max pooling\n",
    "\n",
    "def max_pool_2x2(X):\n",
    "    return tf.nn.max_pool(X, ksize=[1, 2, 2, 1], strides=[1, 2, 2, 1], padding='SAME')"
   ]
  },
  {
   "cell_type": "code",
   "execution_count": 12,
   "metadata": {
    "collapsed": true
   },
   "outputs": [],
   "source": [
    "# Making first convolution and max pooling layer\n",
    "\n",
    "# Weights and Biases\n",
    "W_conv1 = weight_variable([5, 5, 1, 32]) # Size of the filter/kernel: 5x5; Input channels: 1 (greyscale); 32 feature maps\n",
    "b_conv1 = bias_variable([32]) # need 32 biases for 32 outputs\n",
    "\n",
    "# Converting images of dataset to tensors\n",
    "X_image = tf.reshape(X, [-1, 28, 28, 1])\n",
    "\n",
    "# Convolving the weight tensor and adding bias\n",
    "convolve1 = conv2d(X_image, W_conv1) + b_conv1\n",
    "\n",
    "# Appling ReLu activation\n",
    "h_conv1 = tf.nn.relu(convolve1)\n",
    "\n",
    "# Applying max pooling\n",
    "h_pool1 = max_pool_2x2(h_conv1)\n",
    "\n",
    "layer1 = h_pool1"
   ]
  },
  {
   "cell_type": "code",
   "execution_count": 13,
   "metadata": {
    "collapsed": true
   },
   "outputs": [],
   "source": [
    "# Making second convolution and max pooling layer\n",
    "\n",
    "W_conv2 = weight_variable([5, 5, 32, 64])\n",
    "b_conv2 = bias_variable([64])\n",
    "\n",
    "convolve2 = conv2d(layer1, W_conv2) + b_conv2\n",
    "\n",
    "h_conv2 = tf.nn.relu(convolve2)\n",
    "\n",
    "h_pool2 = max_pool_2x2(h_conv2)\n",
    "\n",
    "layer2 = h_pool2"
   ]
  },
  {
   "cell_type": "code",
   "execution_count": 14,
   "metadata": {
    "collapsed": true
   },
   "outputs": [],
   "source": [
    "# Making third layer - Fully connected layer to use softmax and create probabilities in the end.\n",
    "\n",
    "# Weights and bias\n",
    "# Last layer produce a feature map of 7x7, number of feature map = 64, output to softmax = 1024\n",
    "W_fc1 = weight_variable([7 * 7 * 64, 1024])\n",
    "b_fc1 = bias_variable([1024])\n",
    "\n",
    "# Flattening second layer\n",
    "layer2_matrix = tf.reshape(layer2, [-1, 7 * 7 * 64])\n",
    "\n",
    "# Applying weights and bias\n",
    "matmul_fc1 = tf.matmul(layer2_matrix, W_fc1) + b_fc1\n",
    "\n",
    "# Applying ReLu\n",
    "h_fc1 = tf.nn.relu(matmul_fc1)\n",
    "\n",
    "layer3 = h_fc1"
   ]
  },
  {
   "cell_type": "code",
   "execution_count": 15,
   "metadata": {
    "collapsed": true
   },
   "outputs": [],
   "source": [
    "# Droput - regularization\n",
    "\n",
    "keep_prob = tf.placeholder(tf.float32)\n",
    "layer3_drop = tf.nn.dropout(layer3, keep_prob)"
   ]
  },
  {
   "cell_type": "code",
   "execution_count": 16,
   "metadata": {
    "collapsed": true
   },
   "outputs": [],
   "source": [
    "# Final layer - Read out layer (softmax, fully connected)\n",
    "\n",
    "W_fc2 = weight_variable([1024, 10])\n",
    "b_fc2 = bias_variable([10])\n",
    "\n",
    "matmul_fc2 = tf.matmul(layer3_drop, W_fc2) + b_fc2\n",
    "\n",
    "# Applying softmax activation\n",
    "y_conv = tf.nn.softmax(matmul_fc2)\n",
    "layer4 = y_conv"
   ]
  },
  {
   "cell_type": "code",
   "execution_count": 18,
   "metadata": {
    "collapsed": false
   },
   "outputs": [],
   "source": [
    "%timeit\n",
    "\n",
    "cross_entropy = tf.reduce_mean(-tf.reduce_sum(y_ * tf.log(layer4), reduction_indices=[1]))"
   ]
  },
  {
   "cell_type": "code",
   "execution_count": 19,
   "metadata": {
    "collapsed": true
   },
   "outputs": [],
   "source": [
    "train_step = tf.train.AdamOptimizer(1e-4).minimize(cross_entropy)"
   ]
  },
  {
   "cell_type": "code",
   "execution_count": 20,
   "metadata": {
    "collapsed": true
   },
   "outputs": [],
   "source": [
    "correct_prediction = tf.equal(tf.argmax(layer4, 1), tf.argmax(y_, 1))"
   ]
  },
  {
   "cell_type": "code",
   "execution_count": 21,
   "metadata": {
    "collapsed": true
   },
   "outputs": [],
   "source": [
    "accuracy = tf.reduce_mean(tf.cast(correct_prediction, tf.float32))"
   ]
  },
  {
   "cell_type": "code",
   "execution_count": 22,
   "metadata": {
    "collapsed": false
   },
   "outputs": [
    {
     "name": "stdout",
     "output_type": "stream",
     "text": [
      "WARNING:tensorflow:From <magic-timeit>:257 in inner.: initialize_all_variables (from tensorflow.python.ops.variables) is deprecated and will be removed after 2017-03-02.\n",
      "Instructions for updating:\n",
      "Use `tf.global_variables_initializer` instead.\n"
     ]
    },
    {
     "name": "stderr",
     "output_type": "stream",
     "text": [
      "WARNING:tensorflow:From <magic-timeit>:257 in inner.: initialize_all_variables (from tensorflow.python.ops.variables) is deprecated and will be removed after 2017-03-02.\n",
      "Instructions for updating:\n",
      "Use `tf.global_variables_initializer` instead.\n"
     ]
    },
    {
     "name": "stdout",
     "output_type": "stream",
     "text": [
      "WARNING:tensorflow:From <magic-timeit>:257 in inner.: initialize_all_variables (from tensorflow.python.ops.variables) is deprecated and will be removed after 2017-03-02.\n",
      "Instructions for updating:\n",
      "Use `tf.global_variables_initializer` instead.\n"
     ]
    },
    {
     "name": "stderr",
     "output_type": "stream",
     "text": [
      "WARNING:tensorflow:From <magic-timeit>:257 in inner.: initialize_all_variables (from tensorflow.python.ops.variables) is deprecated and will be removed after 2017-03-02.\n",
      "Instructions for updating:\n",
      "Use `tf.global_variables_initializer` instead.\n"
     ]
    },
    {
     "name": "stdout",
     "output_type": "stream",
     "text": [
      "WARNING:tensorflow:From <magic-timeit>:257 in inner.: initialize_all_variables (from tensorflow.python.ops.variables) is deprecated and will be removed after 2017-03-02.\n",
      "Instructions for updating:\n",
      "Use `tf.global_variables_initializer` instead.\n"
     ]
    },
    {
     "name": "stderr",
     "output_type": "stream",
     "text": [
      "WARNING:tensorflow:From <magic-timeit>:257 in inner.: initialize_all_variables (from tensorflow.python.ops.variables) is deprecated and will be removed after 2017-03-02.\n",
      "Instructions for updating:\n",
      "Use `tf.global_variables_initializer` instead.\n"
     ]
    },
    {
     "name": "stdout",
     "output_type": "stream",
     "text": [
      "WARNING:tensorflow:From <magic-timeit>:257 in inner.: initialize_all_variables (from tensorflow.python.ops.variables) is deprecated and will be removed after 2017-03-02.\n",
      "Instructions for updating:\n",
      "Use `tf.global_variables_initializer` instead.\n"
     ]
    },
    {
     "name": "stderr",
     "output_type": "stream",
     "text": [
      "WARNING:tensorflow:From <magic-timeit>:257 in inner.: initialize_all_variables (from tensorflow.python.ops.variables) is deprecated and will be removed after 2017-03-02.\n",
      "Instructions for updating:\n",
      "Use `tf.global_variables_initializer` instead.\n"
     ]
    },
    {
     "name": "stdout",
     "output_type": "stream",
     "text": [
      "1 loops, best of 3: 113 ms per loop\n"
     ]
    }
   ],
   "source": [
    "%timeit session.run(tf.initialize_all_variables())"
   ]
  },
  {
   "cell_type": "code",
   "execution_count": 25,
   "metadata": {
    "collapsed": false
   },
   "outputs": [
    {
     "name": "stdout",
     "output_type": "stream",
     "text": [
      "Step 0 : 0.96000\n",
      "Step 100 : 0.98000\n",
      "Step 200 : 0.94000\n",
      "Step 300 : 0.92000\n",
      "Step 400 : 0.98000\n",
      "Step 500 : 1.00000\n",
      "Step 600 : 0.94000\n",
      "Step 700 : 0.98000\n",
      "Step 800 : 0.96000\n",
      "Step 900 : 1.00000\n"
     ]
    }
   ],
   "source": [
    "for _ in range(1000):\n",
    "    batch = mnist.train.next_batch(50)\n",
    "    if _ % 100 == 0:\n",
    "        train_accuracy = accuracy.eval(session=session, feed_dict={X: batch[0], y_: batch[1], keep_prob: 1.0})\n",
    "        print \"Step %d : %.5f\" % (_ , float(train_accuracy))\n",
    "    train_step.run(session=session, feed_dict={X: batch[0], y_: batch[1], keep_prob: 0.5})"
   ]
  },
  {
   "cell_type": "code",
   "execution_count": 26,
   "metadata": {
    "collapsed": false
   },
   "outputs": [
    {
     "name": "stdout",
     "output_type": "stream",
     "text": [
      "test accuracy 0.9736\n"
     ]
    }
   ],
   "source": [
    "print \"test accuracy %g\"%accuracy.eval(session=session, feed_dict={X: mnist.test.images, y_: mnist.test.labels, keep_prob: 1.0})"
   ]
  },
  {
   "cell_type": "code",
   "execution_count": null,
   "metadata": {
    "collapsed": true
   },
   "outputs": [],
   "source": [
    "sess"
   ]
  }
 ],
 "metadata": {
  "kernelspec": {
   "display_name": "Python 2",
   "language": "python",
   "name": "python2"
  },
  "language_info": {
   "codemirror_mode": {
    "name": "ipython",
    "version": 2
   },
   "file_extension": ".py",
   "mimetype": "text/x-python",
   "name": "python",
   "nbconvert_exporter": "python",
   "pygments_lexer": "ipython2",
   "version": "2.7.11"
  }
 },
 "nbformat": 4,
 "nbformat_minor": 0
}
