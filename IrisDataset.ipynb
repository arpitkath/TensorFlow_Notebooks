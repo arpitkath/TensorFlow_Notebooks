{
 "cells": [
  {
   "cell_type": "code",
   "execution_count": 1,
   "metadata": {
    "collapsed": true
   },
   "outputs": [],
   "source": [
    "import tensorflow as tf\n",
    "import pandas as pd\n",
    "import numpy as np\n",
    "import time\n",
    "from sklearn.datasets import load_iris\n",
    "from sklearn.cross_validation import train_test_split\n",
    "import matplotlib.pyplot as plt"
   ]
  },
  {
   "cell_type": "code",
   "execution_count": 2,
   "metadata": {
    "collapsed": true
   },
   "outputs": [],
   "source": [
    "# Loading iris dataset.\n",
    "iris = load_iris()\n",
    "\n",
    "iris_X, iris_y = iris.data[:-1,:], iris.target[:-1]\n",
    "\n",
    "# Creating dummy variables.\n",
    "iris_y= pd.get_dummies(iris_y).values\n",
    "\n",
    "trainX, testX, trainY, testY = train_test_split(iris_X, iris_y, test_size=0.33, random_state=42)"
   ]
  },
  {
   "cell_type": "code",
   "execution_count": 3,
   "metadata": {
    "collapsed": true
   },
   "outputs": [],
   "source": [
    "numFeatures = trainX.shape[1]\n",
    "\n",
    "numLabels = trainY.shape[1]\n",
    "\n",
    "\n",
    "# Placeholders\n",
    "# 'None' means TensorFlow shouldn't expect a fixed number in that dimension\n",
    "X = tf.placeholder(tf.float32, [None, numFeatures]) # Data type, shape of data.\n",
    "yGold = tf.placeholder(tf.float32, [None, numLabels]) "
   ]
  },
  {
   "cell_type": "code",
   "execution_count": 4,
   "metadata": {
    "collapsed": true
   },
   "outputs": [],
   "source": [
    "W = tf.Variable(tf.zeros([4, 3]))  # 4-dimensional input and  3 classes\n",
    "b = tf.Variable(tf.zeros([3])) # 3-dimensional output [0,0,1],[0,1,0],[1,0,0]"
   ]
  },
  {
   "cell_type": "code",
   "execution_count": 5,
   "metadata": {
    "collapsed": true
   },
   "outputs": [],
   "source": [
    "weights = tf.Variable(tf.random_normal([numFeatures,numLabels],\n",
    "                                       mean=0,\n",
    "                                       stddev=0.01,\n",
    "                                       name=\"weights\"))\n",
    "\n",
    "bias = tf.Variable(tf.random_normal([1,numLabels],\n",
    "                                    mean=0,\n",
    "                                    stddev=0.01,\n",
    "                                    name=\"bias\"))"
   ]
  },
  {
   "cell_type": "code",
   "execution_count": 6,
   "metadata": {
    "collapsed": true
   },
   "outputs": [],
   "source": [
    "# In Logistic Regression, Y = sigmoid(WX + b)\n",
    "apply_weights_OP = tf.matmul(X, weights, name=\"apply_weights\")\n",
    "add_bias_OP = tf.add(apply_weights_OP, bias, name=\"add_bias\") \n",
    "activation_OP = tf.nn.sigmoid(add_bias_OP, name=\"activation\")"
   ]
  },
  {
   "cell_type": "code",
   "execution_count": 7,
   "metadata": {
    "collapsed": true
   },
   "outputs": [],
   "source": [
    "# Training\n",
    "numEpochs = 700\n",
    "\n",
    "learningRate = tf.train.exponential_decay(learning_rate=0.0008,\n",
    "                                          global_step= 1,\n",
    "                                          decay_steps=trainX.shape[0],\n",
    "                                          decay_rate= 0.95,\n",
    "                                          staircase=True)"
   ]
  },
  {
   "cell_type": "code",
   "execution_count": 8,
   "metadata": {
    "collapsed": true
   },
   "outputs": [],
   "source": [
    "#Defining our cost function - Squared Mean Error\n",
    "cost_OP = tf.nn.l2_loss(activation_OP-yGold, name=\"squared_error_cost\")\n",
    "\n",
    "#Defining our Gradient Descent\n",
    "training_OP = tf.train.GradientDescentOptimizer(learningRate).minimize(cost_OP)"
   ]
  },
  {
   "cell_type": "code",
   "execution_count": 9,
   "metadata": {
    "collapsed": false
   },
   "outputs": [
    {
     "name": "stdout",
     "output_type": "stream",
     "text": [
      "WARNING:tensorflow:From <ipython-input-9-b5b8d249273d>:5 in <module>.: initialize_all_variables (from tensorflow.python.ops.variables) is deprecated and will be removed after 2017-03-02.\n",
      "Instructions for updating:\n",
      "Use `tf.global_variables_initializer` instead.\n"
     ]
    },
    {
     "name": "stderr",
     "output_type": "stream",
     "text": [
      "WARNING:tensorflow:From <ipython-input-9-b5b8d249273d>:5 in <module>.: initialize_all_variables (from tensorflow.python.ops.variables) is deprecated and will be removed after 2017-03-02.\n",
      "Instructions for updating:\n",
      "Use `tf.global_variables_initializer` instead.\n"
     ]
    }
   ],
   "source": [
    "# Create a tensorflow session\n",
    "sess = tf.Session()\n",
    "\n",
    "# Initialize our weights and biases variables.\n",
    "init_OP = tf.initialize_all_variables()\n",
    "\n",
    "# Initialize all tensorflow variables\n",
    "sess.run(init_OP)"
   ]
  },
  {
   "cell_type": "code",
   "execution_count": 10,
   "metadata": {
    "collapsed": false
   },
   "outputs": [
    {
     "name": "stdout",
     "output_type": "stream",
     "text": [
      "WARNING:tensorflow:From <ipython-input-10-9bb0f133549f>:10 in <module>.: histogram_summary (from tensorflow.python.ops.logging_ops) is deprecated and will be removed after 2016-11-30.\n",
      "Instructions for updating:\n",
      "Please switch to tf.summary.histogram. Note that tf.summary.histogram uses the node name instead of the tag. This means that TensorFlow will automatically de-duplicate summary names based on their scope.\n"
     ]
    },
    {
     "name": "stderr",
     "output_type": "stream",
     "text": [
      "WARNING:tensorflow:From <ipython-input-10-9bb0f133549f>:10 in <module>.: histogram_summary (from tensorflow.python.ops.logging_ops) is deprecated and will be removed after 2016-11-30.\n",
      "Instructions for updating:\n",
      "Please switch to tf.summary.histogram. Note that tf.summary.histogram uses the node name instead of the tag. This means that TensorFlow will automatically de-duplicate summary names based on their scope.\n"
     ]
    },
    {
     "name": "stdout",
     "output_type": "stream",
     "text": [
      "WARNING:tensorflow:From <ipython-input-10-9bb0f133549f>:13 in <module>.: scalar_summary (from tensorflow.python.ops.logging_ops) is deprecated and will be removed after 2016-11-30.\n",
      "Instructions for updating:\n",
      "Please switch to tf.summary.scalar. Note that tf.summary.scalar uses the node name instead of the tag. This means that TensorFlow will automatically de-duplicate summary names based on the scope they are created in. Also, passing a tensor or list of tags to a scalar summary op is no longer supported.\n"
     ]
    },
    {
     "name": "stderr",
     "output_type": "stream",
     "text": [
      "WARNING:tensorflow:From <ipython-input-10-9bb0f133549f>:13 in <module>.: scalar_summary (from tensorflow.python.ops.logging_ops) is deprecated and will be removed after 2016-11-30.\n",
      "Instructions for updating:\n",
      "Please switch to tf.summary.scalar. Note that tf.summary.scalar uses the node name instead of the tag. This means that TensorFlow will automatically de-duplicate summary names based on the scope they are created in. Also, passing a tensor or list of tags to a scalar summary op is no longer supported.\n"
     ]
    },
    {
     "name": "stdout",
     "output_type": "stream",
     "text": [
      "WARNING:tensorflow:From <ipython-input-10-9bb0f133549f>:16 in <module>.: scalar_summary (from tensorflow.python.ops.logging_ops) is deprecated and will be removed after 2016-11-30.\n",
      "Instructions for updating:\n",
      "Please switch to tf.summary.scalar. Note that tf.summary.scalar uses the node name instead of the tag. This means that TensorFlow will automatically de-duplicate summary names based on the scope they are created in. Also, passing a tensor or list of tags to a scalar summary op is no longer supported.\n"
     ]
    },
    {
     "name": "stderr",
     "output_type": "stream",
     "text": [
      "WARNING:tensorflow:From <ipython-input-10-9bb0f133549f>:16 in <module>.: scalar_summary (from tensorflow.python.ops.logging_ops) is deprecated and will be removed after 2016-11-30.\n",
      "Instructions for updating:\n",
      "Please switch to tf.summary.scalar. Note that tf.summary.scalar uses the node name instead of the tag. This means that TensorFlow will automatically de-duplicate summary names based on the scope they are created in. Also, passing a tensor or list of tags to a scalar summary op is no longer supported.\n"
     ]
    },
    {
     "name": "stdout",
     "output_type": "stream",
     "text": [
      "WARNING:tensorflow:From <ipython-input-10-9bb0f133549f>:19 in <module>.: histogram_summary (from tensorflow.python.ops.logging_ops) is deprecated and will be removed after 2016-11-30.\n",
      "Instructions for updating:\n",
      "Please switch to tf.summary.histogram. Note that tf.summary.histogram uses the node name instead of the tag. This means that TensorFlow will automatically de-duplicate summary names based on their scope.\n"
     ]
    },
    {
     "name": "stderr",
     "output_type": "stream",
     "text": [
      "WARNING:tensorflow:From <ipython-input-10-9bb0f133549f>:19 in <module>.: histogram_summary (from tensorflow.python.ops.logging_ops) is deprecated and will be removed after 2016-11-30.\n",
      "Instructions for updating:\n",
      "Please switch to tf.summary.histogram. Note that tf.summary.histogram uses the node name instead of the tag. This means that TensorFlow will automatically de-duplicate summary names based on their scope.\n"
     ]
    },
    {
     "name": "stdout",
     "output_type": "stream",
     "text": [
      "WARNING:tensorflow:From <ipython-input-10-9bb0f133549f>:20 in <module>.: histogram_summary (from tensorflow.python.ops.logging_ops) is deprecated and will be removed after 2016-11-30.\n",
      "Instructions for updating:\n",
      "Please switch to tf.summary.histogram. Note that tf.summary.histogram uses the node name instead of the tag. This means that TensorFlow will automatically de-duplicate summary names based on their scope.\n"
     ]
    },
    {
     "name": "stderr",
     "output_type": "stream",
     "text": [
      "WARNING:tensorflow:From <ipython-input-10-9bb0f133549f>:20 in <module>.: histogram_summary (from tensorflow.python.ops.logging_ops) is deprecated and will be removed after 2016-11-30.\n",
      "Instructions for updating:\n",
      "Please switch to tf.summary.histogram. Note that tf.summary.histogram uses the node name instead of the tag. This means that TensorFlow will automatically de-duplicate summary names based on their scope.\n"
     ]
    },
    {
     "name": "stdout",
     "output_type": "stream",
     "text": [
      "WARNING:tensorflow:From <ipython-input-10-9bb0f133549f>:23 in <module>.: merge_summary (from tensorflow.python.ops.logging_ops) is deprecated and will be removed after 2016-11-30.\n",
      "Instructions for updating:\n",
      "Please switch to tf.summary.merge.\n"
     ]
    },
    {
     "name": "stderr",
     "output_type": "stream",
     "text": [
      "WARNING:tensorflow:From <ipython-input-10-9bb0f133549f>:23 in <module>.: merge_summary (from tensorflow.python.ops.logging_ops) is deprecated and will be removed after 2016-11-30.\n",
      "Instructions for updating:\n",
      "Please switch to tf.summary.merge.\n"
     ]
    },
    {
     "name": "stdout",
     "output_type": "stream",
     "text": [
      "WARNING:tensorflow:From <ipython-input-10-9bb0f133549f>:26 in <module>.: __init__ (from tensorflow.python.training.summary_io) is deprecated and will be removed after 2016-11-30.\n",
      "Instructions for updating:\n",
      "Please switch to tf.summary.FileWriter. The interface and behavior is the same; this is just a rename.\n"
     ]
    },
    {
     "name": "stderr",
     "output_type": "stream",
     "text": [
      "WARNING:tensorflow:From <ipython-input-10-9bb0f133549f>:26 in <module>.: __init__ (from tensorflow.python.training.summary_io) is deprecated and will be removed after 2016-11-30.\n",
      "Instructions for updating:\n",
      "Please switch to tf.summary.FileWriter. The interface and behavior is the same; this is just a rename.\n"
     ]
    },
    {
     "name": "stdout",
     "output_type": "stream",
     "text": [
      "WARNING:tensorflow:Passing a `GraphDef` to the SummaryWriter is deprecated. Pass a `Graph` object instead, such as `sess.graph`.\n"
     ]
    },
    {
     "name": "stderr",
     "output_type": "stream",
     "text": [
      "WARNING:tensorflow:Passing a `GraphDef` to the SummaryWriter is deprecated. Pass a `Graph` object instead, such as `sess.graph`.\n"
     ]
    }
   ],
   "source": [
    "# We also want some additional operations to keep track of our model's efficiency over time. We can do this like so:\n",
    "# argmax(activation_OP, 1) returns the label with the most probability\n",
    "# argmax(yGold, 1) is the correct label\n",
    "correct_predictions_OP = tf.equal(tf.argmax(activation_OP,1),tf.argmax(yGold,1))\n",
    "\n",
    "# If every false prediction is 0 and every true prediction is 1, the average returns us the accuracy\n",
    "accuracy_OP = tf.reduce_mean(tf.cast(correct_predictions_OP, \"float\"))\n",
    "\n",
    "# Summary op for regression output\n",
    "activation_summary_OP = tf.histogram_summary(\"output\", activation_OP)\n",
    "\n",
    "# Summary op for accuracy\n",
    "accuracy_summary_OP = tf.scalar_summary(\"accuracy\", accuracy_OP)\n",
    "\n",
    "# Summary op for cost\n",
    "cost_summary_OP = tf.scalar_summary(\"cost\", cost_OP)\n",
    "\n",
    "# Summary ops to check how variables (W, b) are updating after each iteration\n",
    "weightSummary = tf.histogram_summary(\"weights\", weights.eval(session=sess))\n",
    "biasSummary = tf.histogram_summary(\"biases\", bias.eval(session=sess))\n",
    "\n",
    "# Merge all summaries\n",
    "merged = tf.merge_summary([activation_summary_OP, accuracy_summary_OP, cost_summary_OP, weightSummary, biasSummary])\n",
    "\n",
    "# Summary writer\n",
    "writer = tf.train.SummaryWriter(\"summary_logs\", sess.graph_def)"
   ]
  },
  {
   "cell_type": "code",
   "execution_count": 11,
   "metadata": {
    "collapsed": false
   },
   "outputs": [
    {
     "name": "stdout",
     "output_type": "stream",
     "text": [
      "step 0, training accuracy 0.373737, cost 34.7379, change in cost 34.7379\n",
      "step 10, training accuracy 0.525253, cost 30.1827, change in cost 4.55521\n",
      "step 20, training accuracy 0.646465, cost 28.2401, change in cost 1.94259\n",
      "step 30, training accuracy 0.646465, cost 26.5948, change in cost 1.64536\n",
      "step 40, training accuracy 0.646465, cost 25.2238, change in cost 1.37097\n",
      "step 50, training accuracy 0.646465, cost 24.089, change in cost 1.13479\n",
      "step 60, training accuracy 0.646465, cost 23.1486, change in cost 0.940445\n",
      "step 70, training accuracy 0.646465, cost 22.3645, change in cost 0.784033\n",
      "step 80, training accuracy 0.646465, cost 21.7053, change in cost 0.659206\n",
      "step 90, training accuracy 0.646465, cost 21.1457, change in cost 0.559624\n",
      "step 100, training accuracy 0.656566, cost 20.6659, change in cost 0.479839\n",
      "step 110, training accuracy 0.666667, cost 20.2504, change in cost 0.415472\n",
      "step 120, training accuracy 0.666667, cost 19.8872, change in cost 0.363132\n",
      "step 130, training accuracy 0.666667, cost 19.567, change in cost 0.320202\n",
      "step 140, training accuracy 0.666667, cost 19.2824, change in cost 0.284689\n",
      "step 150, training accuracy 0.666667, cost 19.0273, change in cost 0.255053\n",
      "step 160, training accuracy 0.686869, cost 18.7972, change in cost 0.230124\n",
      "step 170, training accuracy 0.686869, cost 18.5882, change in cost 0.208992\n",
      "step 180, training accuracy 0.69697, cost 18.3973, change in cost 0.190937\n",
      "step 190, training accuracy 0.707071, cost 18.2218, change in cost 0.175417\n",
      "step 200, training accuracy 0.717172, cost 18.0599, change in cost 0.16197\n",
      "step 210, training accuracy 0.737374, cost 17.9096, change in cost 0.150257\n",
      "step 220, training accuracy 0.737374, cost 17.7696, change in cost 0.139999\n",
      "step 230, training accuracy 0.747475, cost 17.6387, change in cost 0.130955\n",
      "step 240, training accuracy 0.757576, cost 17.5157, change in cost 0.122942\n",
      "step 250, training accuracy 0.777778, cost 17.3999, change in cost 0.115808\n",
      "step 260, training accuracy 0.787879, cost 17.2905, change in cost 0.10943\n",
      "step 270, training accuracy 0.787879, cost 17.1868, change in cost 0.103701\n",
      "step 280, training accuracy 0.787879, cost 17.0882, change in cost 0.0985317\n",
      "step 290, training accuracy 0.787879, cost 16.9944, change in cost 0.0938473\n",
      "step 300, training accuracy 0.79798, cost 16.9048, change in cost 0.0895939\n",
      "step 310, training accuracy 0.79798, cost 16.8191, change in cost 0.0857086\n",
      "step 320, training accuracy 0.79798, cost 16.7369, change in cost 0.0821533\n",
      "step 330, training accuracy 0.79798, cost 16.6581, change in cost 0.078886\n",
      "step 340, training accuracy 0.79798, cost 16.5822, change in cost 0.0758801\n",
      "step 350, training accuracy 0.818182, cost 16.5091, change in cost 0.0730972\n",
      "step 360, training accuracy 0.828283, cost 16.4386, change in cost 0.0705204\n",
      "step 370, training accuracy 0.838384, cost 16.3704, change in cost 0.0681324\n",
      "step 380, training accuracy 0.838384, cost 16.3045, change in cost 0.065897\n",
      "step 390, training accuracy 0.838384, cost 16.2407, change in cost 0.0638218\n",
      "step 400, training accuracy 0.848485, cost 16.1788, change in cost 0.0618744\n",
      "step 410, training accuracy 0.848485, cost 16.1188, change in cost 0.0600452\n",
      "step 420, training accuracy 0.848485, cost 16.0605, change in cost 0.0583305\n",
      "step 430, training accuracy 0.858586, cost 16.0037, change in cost 0.0567188\n",
      "step 440, training accuracy 0.858586, cost 15.9485, change in cost 0.055191\n",
      "step 450, training accuracy 0.868687, cost 15.8948, change in cost 0.0537529\n",
      "step 460, training accuracy 0.878788, cost 15.8424, change in cost 0.0523882\n",
      "step 470, training accuracy 0.878788, cost 15.7913, change in cost 0.051096\n",
      "step 480, training accuracy 0.878788, cost 15.7414, change in cost 0.0498667\n",
      "step 490, training accuracy 0.878788, cost 15.6927, change in cost 0.0487003\n",
      "step 500, training accuracy 0.878788, cost 15.6452, change in cost 0.0475874\n",
      "step 510, training accuracy 0.878788, cost 15.5986, change in cost 0.0465279\n",
      "step 520, training accuracy 0.878788, cost 15.5531, change in cost 0.0455093\n",
      "step 530, training accuracy 0.888889, cost 15.5086, change in cost 0.0445433\n",
      "step 540, training accuracy 0.89899, cost 15.465, change in cost 0.0436153\n",
      "step 550, training accuracy 0.89899, cost 15.4222, change in cost 0.0427256\n",
      "step 560, training accuracy 0.89899, cost 15.3804, change in cost 0.041873\n",
      "step 570, training accuracy 0.89899, cost 15.3393, change in cost 0.0410509\n",
      "step 580, training accuracy 0.89899, cost 15.299, change in cost 0.0402651\n",
      "step 590, training accuracy 0.89899, cost 15.2595, change in cost 0.0395041\n",
      "step 600, training accuracy 0.909091, cost 15.2208, change in cost 0.0387764\n",
      "step 610, training accuracy 0.909091, cost 15.1827, change in cost 0.0380707\n",
      "step 620, training accuracy 0.909091, cost 15.1453, change in cost 0.0373907\n",
      "step 630, training accuracy 0.909091, cost 15.1086, change in cost 0.0367355\n",
      "step 640, training accuracy 0.909091, cost 15.0725, change in cost 0.0360994\n",
      "step 650, training accuracy 0.909091, cost 15.037, change in cost 0.0354862\n",
      "step 660, training accuracy 0.909091, cost 15.0021, change in cost 0.034893\n",
      "step 670, training accuracy 0.909091, cost 14.9678, change in cost 0.034317\n",
      "step 680, training accuracy 0.909091, cost 14.934, change in cost 0.0337582\n",
      "step 690, training accuracy 0.909091, cost 14.9008, change in cost 0.0332222\n",
      "final accuracy on test set: 0.9\n"
     ]
    }
   ],
   "source": [
    "# Initialize reporting variables\n",
    "cost = 0\n",
    "diff = 1\n",
    "epoch_values = []\n",
    "accuracy_values = []\n",
    "cost_values = []\n",
    "\n",
    "# Training epochs\n",
    "for i in range(numEpochs):\n",
    "    if i > 1 and diff < .0001:\n",
    "        print(\"change in cost %g; convergence.\"%diff)\n",
    "        break\n",
    "    else:\n",
    "        # Run training step\n",
    "        step = sess.run(training_OP, feed_dict={X: trainX, yGold: trainY})\n",
    "        # Report occasional stats\n",
    "        if i % 10 == 0:\n",
    "            # Add epoch to epoch_values\n",
    "            epoch_values.append(i)\n",
    "            # Generate accuracy stats on test data\n",
    "            train_accuracy, newCost = sess.run([accuracy_OP, cost_OP], feed_dict={X: trainX, yGold: trainY})\n",
    "            # Add accuracy to live graphing variable\n",
    "            accuracy_values.append(train_accuracy)\n",
    "            # Add cost to live graphing variable\n",
    "            cost_values.append(newCost)\n",
    "            # Re-assign values for variables\n",
    "            diff = abs(newCost - cost)\n",
    "            cost = newCost\n",
    "\n",
    "            #generate print statements\n",
    "            print(\"step %d, training accuracy %g, cost %g, change in cost %g\"%(i, train_accuracy, newCost, diff))\n",
    "\n",
    "\n",
    "# How well do we perform on held-out test data?\n",
    "print(\"final accuracy on test set: %s\" %str(sess.run(accuracy_OP, \n",
    "                                                     feed_dict={X: testX, \n",
    "                                                                yGold: testY})))"
   ]
  },
  {
   "cell_type": "code",
   "execution_count": 12,
   "metadata": {
    "collapsed": false
   },
   "outputs": [
    {
     "name": "stderr",
     "output_type": "stream",
     "text": [
      "/home/arpit/anaconda2/lib/python2.7/site-packages/numpy/core/_methods.py:59: RuntimeWarning: Mean of empty slice.\n",
      "  warnings.warn(\"Mean of empty slice.\", RuntimeWarning)\n"
     ]
    },
    {
     "data": {
      "image/png": "[encoded data removed]",
      "text/plain": [
       "<matplotlib.figure.Figure at 0x7ff6168000d0>"
      ]
     },
     "metadata": {},
     "output_type": "display_data"
    }
   ],
   "source": [
    "%matplotlib inline\n",
    "import numpy as np\n",
    "import matplotlib.pyplot as plt\n",
    "plt.plot([np.mean(cost_values[i-50:i]) for i in range(len(cost_values))])\n",
    "plt.show()"
   ]
  },
  {
   "cell_type": "code",
   "execution_count": null,
   "metadata": {
    "collapsed": true
   },
   "outputs": [],
   "source": []
  }
 ],
 "metadata": {
  "kernelspec": {
   "display_name": "Python 2",
   "language": "python",
   "name": "python2"
  },
  "language_info": {
   "codemirror_mode": {
    "name": "ipython",
    "version": 2
   },
   "file_extension": ".py",
   "mimetype": "text/x-python",
   "name": "python",
   "nbconvert_exporter": "python",
   "pygments_lexer": "ipython2",
   "version": "2.7.11"
  }
 },
 "nbformat": 4,
 "nbformat_minor": 0
}
